{
 "cells": [
  {
   "cell_type": "code",
   "execution_count": 1,
   "id": "a094ec83-148b-439b-8fc4-cb6329ebdbd4",
   "metadata": {},
   "outputs": [],
   "source": [
    "import requests\n",
    "import pandas as pd\n",
    "from sklearn.ensemble import RandomForestRegressor\n",
    "from sklearn.model_selection import train_test_split\n",
    "from sklearn.metrics import mean_squared_error"
   ]
  },
  {
   "cell_type": "code",
   "execution_count": null,
   "id": "20aec63c-00ce-4a12-9ff2-0bf41fa8fa3c",
   "metadata": {},
   "outputs": [],
   "source": []
  },
  {
   "cell_type": "code",
   "execution_count": 5,
   "id": "65d8a9a3-8193-43fa-9fa0-5c52060f6907",
   "metadata": {},
   "outputs": [],
   "source": [
    "\n",
    "# Assuming data is prepared as per the earlier functions\n",
    "def fetch_crypto_data(crypto_pair, start_date):\n",
    "    \"\"\"\n",
    "    Fetches daily historical crypto data from the Binance API.\n",
    "\n",
    "    Args:\n",
    "        crypto_pair (str): Crypto pair in Binance format (e.g., 'BTCUSDT').\n",
    "        start_date (str): Start date in 'YYYY-MM-DD' format.\n",
    "\n",
    "    Returns:\n",
    "        pd.DataFrame: DataFrame containing Date, Open, High, Low, Close prices.\n",
    "    \"\"\"\n",
    "    url = 'https://api.binance.com/api/v3/klines'\n",
    "    params = {\n",
    "        'symbol': crypto_pair.upper(),\n",
    "        'interval': '1d',\n",
    "        'startTime': int(pd.Timestamp(start_date).timestamp() * 1000),\n",
    "        'limit': 1000  # Maximum records per request\n",
    "    }\n",
    "\n",
    "    response = requests.get(url, params=params)\n",
    "    if response.status_code != 200:\n",
    "        raise Exception(f\"API request failed: {response.status_code}\")\n",
    "\n",
    "    data = response.json()\n",
    "    df = pd.DataFrame(data, columns=[\n",
    "        'Open time', 'Open', 'High', 'Low', 'Close', 'Volume', \n",
    "        'Close time', 'Quote asset volume', 'Number of trades', \n",
    "        'Taker buy base asset volume', 'Taker buy quote asset volume', 'Ignore'\n",
    "    ])\n",
    "\n",
    "    df = df[['Open time', 'Open', 'High', 'Low', 'Close']]\n",
    "    df['Date'] = pd.to_datetime(df['Open time'], unit='ms').dt.date\n",
    "    df[['Open', 'High', 'Low', 'Close']] = df[['Open', 'High', 'Low', 'Close']].astype(float)\n",
    "    return df[['Date', 'Open', 'High', 'Low', 'Close']]"
   ]
  },
  {
   "cell_type": "code",
   "execution_count": 7,
   "id": "e6a6395a-64fb-4607-b2bc-76159f40246d",
   "metadata": {},
   "outputs": [],
   "source": [
    "def calculate_metrics(data, variable1, variable2):\n",
    "    \"\"\"\n",
    "    Calculates historical and future metrics based on crypto data.\n",
    "\n",
    "    Args:\n",
    "        data (pd.DataFrame): DataFrame containing 'Date' and 'Close' columns.\n",
    "        variable1 (int): Look-back period (e.g., 7 days).\n",
    "        variable2 (int): Look-forward period (e.g., 5 days).\n",
    "\n",
    "    Returns:\n",
    "        pd.DataFrame: DataFrame with new metrics added.\n",
    "    \"\"\"\n",
    "    data = data.copy()\n",
    "    data.set_index('Date', inplace=True)\n",
    "\n",
    "    # Historical high and low prices over look-back period\n",
    "    data[f'High_Last_{variable1}_Days'] = data['Close'].rolling(window=variable1).max()\n",
    "    data[f'Low_Last_{variable1}_Days'] = data['Close'].rolling(window=variable1).min()\n",
    "\n",
    "    # Days since the most recent high/low price within the look-back period\n",
    "    data[f'Days_Since_High_Last_{variable1}_Days'] = data[f'High_Last_{variable1}_Days'].expanding().apply(\n",
    "        lambda x: (x.index[-1] - x.idxmax()).days)\n",
    "    data[f'Days_Since_Low_Last_{variable1}_Days'] = data[f'Low_Last_{variable1}_Days'].expanding().apply(\n",
    "        lambda x: (x.index[-1] - x.idxmin()).days)\n",
    "\n",
    "    # Percentage differences from historical high and low prices\n",
    "    data[f'%_Diff_From_High_Last_{variable1}_Days'] = (\n",
    "        (data['Close'] - data[f'High_Last_{variable1}_Days']) / data[f'High_Last_{variable1}_Days'] * 100\n",
    "    )\n",
    "    data[f'%_Diff_From_Low_Last_{variable1}_Days'] = (\n",
    "        (data['Close'] - data[f'Low_Last_{variable1}_Days']) / data[f'Low_Last_{variable1}_Days'] * 100\n",
    "    )\n",
    "   # Future high and low prices over look-forward period\n",
    "    data[f'High_Next_{variable2}_Days'] = data['Close'].rolling(window=variable2).max().shift(-variable2)\n",
    "    data[f'Low_Next_{variable2}_Days'] = data['Close'].rolling(window=variable2).min().shift(-variable2)\n",
    "\n",
    "    # Percentage differences from future high and low prices\n",
    "    data[f'%_Diff_From_High_Next_{variable2}_Days'] = (\n",
    "        (data['Close'] - data[f'High_Next_{variable2}_Days']) / data[f'High_Next_{variable2}_Days'] * 100\n",
    "    )\n",
    "    data[f'%_Diff_From_Low_Next_{variable2}_Days'] = (\n",
    "        (data['Close'] - data[f'Low_Next_{variable2}_Days']) / data[f'Low_Next_{variable2}_Days'] * 100\n",
    "    )\n",
    "\n",
    "    return data.reset_index()"
   ]
  },
  {
   "cell_type": "code",
   "execution_count": 9,
   "id": "6b4dca78-8d5c-4fcc-b853-8c611ffbd517",
   "metadata": {},
   "outputs": [],
   "source": [
    "def train_model(data):\n",
    "    \"\"\"\n",
    "    Trains two Random Forest models for high and low price predictions.\n",
    "\n",
    "    Args:\n",
    "        data (pd.DataFrame): Data with calculated metrics for training.\n",
    "\n",
    "    Returns:\n",
    "        model1, model2: Trained models for predicting high and low price differences.\n",
    "    \"\"\"\n",
    "    features = [\n",
    "        'Days_Since_High_Last_7_Days', '%_Diff_From_High_Last_7_Days',\n",
    "        'Days_Since_Low_Last_7_Days', '%_Diff_From_Low_Last_7_Days'\n",
    "    ]\n",
    "    target1 = '%_Diff_From_High_Next_5_Days'\n",
    "    target2 = '%_Diff_From_Low_Next_5_Days'\n",
    "\n",
    "    data = data.dropna(subset=features + [target1, target2])\n",
    "\n",
    "    X = data[features]\n",
    "    y1 = data[target1]\n",
    "    y2 = data[target2]\n",
    "\n",
    "    # Split data into training and testing sets\n",
    "    X_train, X_test, y1_train, y1_test = train_test_split(X, y1, test_size=0.2, random_state=42)\n",
    "    _, _, y2_train, y2_test = train_test_split(X, y2, test_size=0.2, random_state=42)\n",
    "\n",
    "    model1 = RandomForestRegressor(random_state=42)\n",
    "    model2 = RandomForestRegressor(random_state=42)\n",
    "\n",
    "    model1.fit(X_train, y1_train)\n",
    "    model2.fit(X_train, y2_train)\n",
    "\n",
    "    mse1 = mean_squared_error(y1_test, model1.predict(X_test))\n",
    "    mse2 = mean_squared_error(y2_test, model2.predict(X_test))\n",
    "\n",
    "    print(f\"Model 1 MSE: {mse1}\")\n",
    "    print(f\"Model 2 MSE: {mse2}\")\n",
    "\n",
    "    return model1, model2"
   ]
  },
  {
   "cell_type": "code",
   "execution_count": 11,
   "id": "a0b15386-1391-4ea4-9572-cfd60bbd454b",
   "metadata": {},
   "outputs": [],
   "source": [
    "def predict_outcomes(model1, model2, input_features):\n",
    "    \"\"\"\n",
    "    Predicts future percentage differences from high and low prices using trained models.\n",
    "\n",
    "    Args:\n",
    "        model1 (RandomForestRegressor): Model for predicting high price difference.\n",
    "        model2 (RandomForestRegressor): Model for predicting low price difference.\n",
    "        input_features (list): List of input values for features:\n",
    "            [Days_Since_High_Last_7_Days, %_Diff_From_High_Last_7_Days,\n",
    "             Days_Since_Low_Last_7_Days, %_Diff_From_Low_Last_7_Days]\n",
    "\n",
    "    Returns:\n",
    "        tuple: Predicted % difference from future high and low prices.\n",
    "    \"\"\"\n",
    "    prediction_high = model1.predict([input_features])[0]\n",
    "    prediction_low = model2.predict([input_features])[0]\n",
    "    return prediction_high, prediction_low\n"
   ]
  },
  {
   "cell_type": "code",
   "execution_count": 13,
   "id": "fac2fc06-7731-4b52-b4d7-fc77339349a3",
   "metadata": {},
   "outputs": [],
   "source": [
    "def evaluate_crypto_trend(data, model1, model2, variable1=7, variable2=5):\n",
    "    \"\"\"\n",
    "    Evaluates cryptocurrency trends by calculating metrics and using predictions.\n",
    "\n",
    "    Args:\n",
    "        data (pd.DataFrame): Data containing historical crypto prices.\n",
    "        model1 (RandomForestRegressor): Model for predicting high price difference.\n",
    "        model2 (RandomForestRegressor): Model for predicting low price difference.\n",
    "        variable1 (int): Look-back period for metrics calculation.\n",
    "        variable2 (int): Look-forward period for metrics calculation.\n",
    "\n",
    "    Returns:\n",
    "        pd.DataFrame: Data with calculated metrics and model predictions.\n",
    "    \"\"\"\n",
    "    metrics_data = calculate_metrics(data, variable1, variable2)\n",
    "    predictions = []\n",
    "    \n",
    "    for _, row in metrics_data.iterrows():\n",
    "        input_features = [\n",
    "            row[f'Days_Since_High_Last_{variable1}_Days'],\n",
    "            row[f'%_Diff_From_High_Last_{variable1}_Days'],\n",
    "            row[f'Days_Since_Low_Last_{variable1}_Days'],\n",
    "            row[f'%_Diff_From_Low_Last_{variable1}_Days']\n",
    "        ]\n",
    "        \n",
    "        if pd.notnull(input_features).all():\n",
    "            pred_high, pred_low = predict_outcomes(model1, model2, input_features)\n",
    "            predictions.append((pred_high, pred_low))\n",
    "        else:\n",
    "            predictions.append((None, None))\n",
    "    \n",
    "    metrics_data['Pred_%_Diff_From_High_Next_5_Days'], metrics_data['Pred_%_Diff_From_Low_Next_5_Days'] = zip(*predictions)\n",
    "    \n",
    "    return metrics_data"
   ]
  },
  {
   "cell_type": "code",
   "execution_count": 17,
   "id": "7c2a6210-228b-4617-8a1e-57072900ac16",
   "metadata": {},
   "outputs": [
    {
     "name": "stdout",
     "output_type": "stream",
     "text": [
      "         Date      Open      High       Low     Close\n",
      "0  2023-01-01  16541.77  16628.00  16499.01  16616.75\n",
      "1  2023-01-02  16617.17  16799.23  16548.70  16672.87\n",
      "2  2023-01-03  16672.78  16778.40  16605.28  16675.18\n",
      "3  2023-01-04  16675.65  16991.87  16652.66  16850.36\n",
      "4  2023-01-05  16850.36  16879.82  16753.00  16831.85\n"
     ]
    }
   ],
   "source": [
    "crypto_data = fetch_crypto_data('BTCUSDT', '2023-01-01')\n",
    "print(crypto_data.head())\n"
   ]
  },
  {
   "cell_type": "code",
   "execution_count": 19,
   "id": "0fc146c0-da47-49c2-bcbe-7595aef0fa3c",
   "metadata": {},
   "outputs": [
    {
     "name": "stdout",
     "output_type": "stream",
     "text": [
      "         Date      Open      High       Low     Close  High_Last_7_Days  \\\n",
      "0  2023-01-01  16541.77  16628.00  16499.01  16616.75               NaN   \n",
      "1  2023-01-02  16617.17  16799.23  16548.70  16672.87               NaN   \n",
      "2  2023-01-03  16672.78  16778.40  16605.28  16675.18               NaN   \n",
      "3  2023-01-04  16675.65  16991.87  16652.66  16850.36               NaN   \n",
      "4  2023-01-05  16850.36  16879.82  16753.00  16831.85               NaN   \n",
      "\n",
      "   Low_Last_7_Days  Days_Since_High_Last_7_Days  Days_Since_Low_Last_7_Days  \\\n",
      "0              NaN                          NaN                         NaN   \n",
      "1              NaN                          NaN                         NaN   \n",
      "2              NaN                          NaN                         NaN   \n",
      "3              NaN                          NaN                         NaN   \n",
      "4              NaN                          NaN                         NaN   \n",
      "\n",
      "   %_Diff_From_High_Last_7_Days  %_Diff_From_Low_Last_7_Days  \\\n",
      "0                           NaN                          NaN   \n",
      "1                           NaN                          NaN   \n",
      "2                           NaN                          NaN   \n",
      "3                           NaN                          NaN   \n",
      "4                           NaN                          NaN   \n",
      "\n",
      "   High_Next_5_Days  Low_Next_5_Days  %_Diff_From_High_Next_5_Days  \\\n",
      "0          16950.65         16672.87                     -1.969836   \n",
      "1          16950.65         16675.18                     -1.638757   \n",
      "2          17127.83         16831.85                     -2.642775   \n",
      "3          17178.26         16831.85                     -1.908808   \n",
      "4          17440.66         16943.57                     -3.490751   \n",
      "\n",
      "   %_Diff_From_Low_Next_5_Days  \n",
      "0                    -0.336595  \n",
      "1                    -0.013853  \n",
      "2                    -0.930795  \n",
      "3                     0.109970  \n",
      "4                    -0.659365  \n"
     ]
    }
   ],
   "source": [
    "# Calculate metrics with a 7-day look-back and a 5-day look-forward period\n",
    "metrics_data = calculate_metrics(crypto_data, variable1=7, variable2=5)\n",
    "print(metrics_data.head())\n"
   ]
  },
  {
   "cell_type": "code",
   "execution_count": 21,
   "id": "f2aee9b2-cf27-45b1-a639-5728b774bb5d",
   "metadata": {},
   "outputs": [
    {
     "name": "stdout",
     "output_type": "stream",
     "text": [
      "Model 1 MSE: 7.494173212125108\n",
      "Model 2 MSE: 7.909750918102557\n"
     ]
    }
   ],
   "source": [
    "# Train the model on the calculated metrics\n",
    "model1, model2 = train_model(metrics_data)\n"
   ]
  },
  {
   "cell_type": "code",
   "execution_count": 23,
   "id": "3c8316ec-3f85-449a-aae1-aac1b601d1df",
   "metadata": {},
   "outputs": [
    {
     "name": "stdout",
     "output_type": "stream",
     "text": [
      "Predicted % Difference from High in next 5 days: -11.670957521822315\n",
      "Predicted % Difference from Low in next 5 days: -3.3503165570433913\n"
     ]
    },
    {
     "name": "stderr",
     "output_type": "stream",
     "text": [
      "C:\\New folder\\Lib\\site-packages\\sklearn\\base.py:493: UserWarning: X does not have valid feature names, but RandomForestRegressor was fitted with feature names\n",
      "  warnings.warn(\n",
      "C:\\New folder\\Lib\\site-packages\\sklearn\\base.py:493: UserWarning: X does not have valid feature names, but RandomForestRegressor was fitted with feature names\n",
      "  warnings.warn(\n"
     ]
    }
   ],
   "source": [
    "# Example input for prediction: [days_since_high, %_diff_from_high, days_since_low, %_diff_from_low]\n",
    "input_features = [3, -1.2, 5, 2.3]  # Replace these with actual values based on your data\n",
    "predicted_high_diff, predicted_low_diff = predict_outcomes(model1, model2, input_features)\n",
    "\n",
    "print(f\"Predicted % Difference from High in next 5 days: {predicted_high_diff}\")\n",
    "print(f\"Predicted % Difference from Low in next 5 days: {predicted_low_diff}\")\n"
   ]
  },
  {
   "cell_type": "code",
   "execution_count": 27,
   "id": "52497147-670f-4958-b77f-7b0e52c393dd",
   "metadata": {},
   "outputs": [],
   "source": [
    "import pandas as pd\n",
    "\n",
    "def predict_outcomes(model1, model2, input_features):\n",
    "    \"\"\"\n",
    "    Predicts future percentage differences from high and low prices using trained models.\n",
    "\n",
    "    Args:\n",
    "        model1 (RandomForestRegressor): Model for predicting high price difference.\n",
    "        model2 (RandomForestRegressor): Model for predicting low price difference.\n",
    "        input_features (list): List of input values for features:\n",
    "            [Days_Since_High_Last_7_Days, %_Diff_From_High_Last_7_Days,\n",
    "             Days_Since_Low_Last_7_Days, %_Diff_From_Low_Last_7_Days]\n",
    "\n",
    "    Returns:\n",
    "        tuple: Predicted % difference from future high and low prices.\n",
    "    \"\"\"\n",
    "    # Define feature names as expected by the model\n",
    "    feature_names = [\n",
    "        'Days_Since_High_Last_7_Days', \n",
    "        '%_Diff_From_High_Last_7_Days', \n",
    "        'Days_Since_Low_Last_7_Days', \n",
    "        '%_Diff_From_Low_Last_7_Days'\n",
    "    ]\n",
    "    \n",
    "    # Convert input features into a DataFrame with feature names\n",
    "    input_df = pd.DataFrame([input_features], columns=feature_names)\n",
    "    \n",
    "    # Make predictions using the trained models\n",
    "    prediction_high = model1.predict(input_df)[0]\n",
    "    prediction_low = model2.predict(input_df)[0]\n",
    "    \n",
    "    return prediction_high, prediction_low\n"
   ]
  },
  {
   "cell_type": "code",
   "execution_count": 32,
   "id": "f3c0fc87-3f77-4e74-ac8d-84c91a3f928b",
   "metadata": {},
   "outputs": [
    {
     "name": "stdout",
     "output_type": "stream",
     "text": [
      "         Date      Open      High       Low     Close  High_Last_7_Days  \\\n",
      "0  2023-01-01  16541.77  16628.00  16499.01  16616.75               NaN   \n",
      "1  2023-01-02  16617.17  16799.23  16548.70  16672.87               NaN   \n",
      "2  2023-01-03  16672.78  16778.40  16605.28  16675.18               NaN   \n",
      "3  2023-01-04  16675.65  16991.87  16652.66  16850.36               NaN   \n",
      "4  2023-01-05  16850.36  16879.82  16753.00  16831.85               NaN   \n",
      "\n",
      "   Low_Last_7_Days  Days_Since_High_Last_7_Days  Days_Since_Low_Last_7_Days  \\\n",
      "0              NaN                          NaN                         NaN   \n",
      "1              NaN                          NaN                         NaN   \n",
      "2              NaN                          NaN                         NaN   \n",
      "3              NaN                          NaN                         NaN   \n",
      "4              NaN                          NaN                         NaN   \n",
      "\n",
      "   %_Diff_From_High_Last_7_Days  %_Diff_From_Low_Last_7_Days  \\\n",
      "0                           NaN                          NaN   \n",
      "1                           NaN                          NaN   \n",
      "2                           NaN                          NaN   \n",
      "3                           NaN                          NaN   \n",
      "4                           NaN                          NaN   \n",
      "\n",
      "   High_Next_5_Days  Low_Next_5_Days  %_Diff_From_High_Next_5_Days  \\\n",
      "0          16950.65         16672.87                     -1.969836   \n",
      "1          16950.65         16675.18                     -1.638757   \n",
      "2          17127.83         16831.85                     -2.642775   \n",
      "3          17178.26         16831.85                     -1.908808   \n",
      "4          17440.66         16943.57                     -3.490751   \n",
      "\n",
      "   %_Diff_From_Low_Next_5_Days  Pred_%_Diff_From_High_Next_5_Days  \\\n",
      "0                    -0.336595                                NaN   \n",
      "1                    -0.013853                                NaN   \n",
      "2                    -0.930795                                NaN   \n",
      "3                     0.109970                                NaN   \n",
      "4                    -0.659365                                NaN   \n",
      "\n",
      "   Pred_%_Diff_From_Low_Next_5_Days  \n",
      "0                               NaN  \n",
      "1                               NaN  \n",
      "2                               NaN  \n",
      "3                               NaN  \n",
      "4                               NaN  \n"
     ]
    }
   ],
   "source": [
    "evaluated_data = evaluate_crypto_trend(crypto_data, model1, model2, variable1=7, variable2=5)\n",
    "print(evaluated_data.head())\n"
   ]
  },
  {
   "cell_type": "code",
   "execution_count": 34,
   "id": "46958265-4e06-48bf-b261-157436d59f49",
   "metadata": {},
   "outputs": [
    {
     "name": "stdout",
     "output_type": "stream",
     "text": [
      "Excel file saved as 'crypto_metrics.xlsx'.\n"
     ]
    }
   ],
   "source": [
    "# Export metrics data to Excel\n",
    "metrics_data.to_excel(\"crypto_metrics.xlsx\", index=False)\n",
    "print(\"Excel file saved as 'crypto_metrics.xlsx'.\")\n",
    "\n"
   ]
  }
 ],
 "metadata": {
  "kernelspec": {
   "display_name": "Python 3 (ipykernel)",
   "language": "python",
   "name": "python3"
  },
  "language_info": {
   "codemirror_mode": {
    "name": "ipython",
    "version": 3
   },
   "file_extension": ".py",
   "mimetype": "text/x-python",
   "name": "python",
   "nbconvert_exporter": "python",
   "pygments_lexer": "ipython3",
   "version": "3.12.7"
  }
 },
 "nbformat": 4,
 "nbformat_minor": 5
}
